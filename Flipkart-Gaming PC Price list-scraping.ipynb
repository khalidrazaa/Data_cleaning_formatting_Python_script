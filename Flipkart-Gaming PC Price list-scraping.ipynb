{
 "cells": [
  {
   "cell_type": "code",
   "execution_count": 15,
   "id": "28227a90",
   "metadata": {},
   "outputs": [],
   "source": [
    "from bs4 import BeautifulSoup as bs\n",
    "import requests\n",
    "import pandas as pd\n",
    "\n",
    "\n",
    "# Search gaming Pc on flipkart.com & paste the link belwo object \"link_site\"\n",
    "link_site=\"https://www.flipkart.com/search?q=gaming%20pc&otracker=search&otracker1=search&marketplace=FLIPKART&as-show=on&as=off\"\n",
    "\n",
    "page = requests.get(link_site)\n",
    "page\n",
    "\n",
    "site_data=page.content\n",
    "soup=bs(site_data,'html.parser')\n",
    "\n",
    "# Finding list of gaming PCs in displayed page\n",
    "\n",
    "pc_item=soup.find_all(\"a\", class_=\"s1Q9rs\")\n",
    "pc_item\n",
    "\n",
    "\n",
    "item_list=[]\n",
    "for i in range(0,len(pc_item)):\n",
    "    item_list.append(pc_item[i].get_text())\n",
    "    \n",
    "item_list\n",
    "\n",
    "\n",
    "# Finding price of displayed model\n",
    "\n",
    "pc_price=soup.find_all(\"div\", class_=\"_30jeq3\")\n",
    "pc_price\n",
    "\n",
    "\n",
    "price_list=[]\n",
    "for i in range(0,len(pc_price)):\n",
    "    price_list.append(pc_price[i].get_text())\n",
    "    \n",
    "price_list\n",
    "\n",
    "# Collect data to show in pandas dataframe & save it as .csv file\n",
    "\n",
    "df = pd.DataFrame()\n",
    "df[\"Gaming PC Make & Model\"]=item_list\n",
    "df[\"Priced \"] = price_list\n",
    "\n",
    "df\n",
    "\n",
    "df.to_csv(\"Gaming_Pc_prices.csv\")"
   ]
  },
  {
   "cell_type": "code",
   "execution_count": null,
   "id": "af55a485",
   "metadata": {},
   "outputs": [],
   "source": []
  }
 ],
 "metadata": {
  "kernelspec": {
   "display_name": "Python 3 (ipykernel)",
   "language": "python",
   "name": "python3"
  },
  "language_info": {
   "codemirror_mode": {
    "name": "ipython",
    "version": 3
   },
   "file_extension": ".py",
   "mimetype": "text/x-python",
   "name": "python",
   "nbconvert_exporter": "python",
   "pygments_lexer": "ipython3",
   "version": "3.9.12"
  }
 },
 "nbformat": 4,
 "nbformat_minor": 5
}
