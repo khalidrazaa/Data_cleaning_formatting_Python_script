{
 "cells": [
  {
   "cell_type": "code",
   "execution_count": 10,
   "id": "1f725d6e",
   "metadata": {},
   "outputs": [],
   "source": [
    "# This script will split data in excel cell which is separated by \"/\".\n",
    "# df is dataframe where excel file will be read and stored.\n",
    "# sample excel file has columns site_id, atm_id, project_id, Bank_name, location where I need to slip data from ATM_id only.\n",
    "# so I have to freeze all other coluums using set_index. leaving ATM_ID\n",
    "# Lambda expression will split the string targeting \"/\" explod the spliited cell and reset the rows\n",
    "# reindexing will re arranged the data in correct order as I desired \"site_id, ATM_ID, project_id,Bank_name,location\".\n",
    " \n",
    "import pandas as pd\n",
    "\n",
    "df = pd.read_excel(r\"D:\\sample_before.xlsx\", sheet_name=0)\n",
    "\n",
    "df=df.set_index(['SITE_ID',\n",
    "               'PROJECT_ID',\n",
    "               'BANK_NAME',\n",
    "               'LOCATION']).apply(lambda x: x.str.split('/').explode()).reset_index().reindex(columns= ['SITE_ID',\n",
    "                                                                                                         'ATM_ID',\n",
    "                                                                                                         'PROJECT_ID',\n",
    "                                                                                                         'BANK_NAME',\n",
    "                                                                                                         'LOCATION']).to_excel(r\"D:\\sample_after_output.xlsx\")\n",
    "\n"
   ]
  },
  {
   "cell_type": "code",
   "execution_count": null,
   "id": "25c1b1f8",
   "metadata": {},
   "outputs": [],
   "source": []
  }
 ],
 "metadata": {
  "kernelspec": {
   "display_name": "base",
   "language": "python",
   "name": "python3"
  },
  "language_info": {
   "codemirror_mode": {
    "name": "ipython",
    "version": 3
   },
   "file_extension": ".py",
   "mimetype": "text/x-python",
   "name": "python",
   "nbconvert_exporter": "python",
   "pygments_lexer": "ipython3",
   "version": "3.9.7 (default, Sep 16 2021, 16:59:28) [MSC v.1916 64 bit (AMD64)]"
  },
  "vscode": {
   "interpreter": {
    "hash": "ad2bdc8ecc057115af97d19610ffacc2b4e99fae6737bb82f5d7fb13d2f2c186"
   }
  }
 },
 "nbformat": 4,
 "nbformat_minor": 5
}
